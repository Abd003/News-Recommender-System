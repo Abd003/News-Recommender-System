{
  "nbformat": 4,
  "nbformat_minor": 0,
  "metadata": {
    "colab": {
      "name": "Categorization Model.ipynb",
      "provenance": [],
      "collapsed_sections": []
    },
    "kernelspec": {
      "display_name": "Python 3",
      "name": "python3"
    },
    "language_info": {
      "name": "python"
    }
  },
  "cells": [
    {
      "cell_type": "code",
      "metadata": {
        "id": "eE2q4RZw2NWz",
        "colab": {
          "base_uri": "https://localhost:8080/"
        },
        "outputId": "29711a83-f30d-4bfe-a526-f827ea8188ac"
      },
      "source": [
        "import numpy as np\n",
        "import pandas as pd\n",
        "import time\n",
        "import keras\n",
        "import re\n",
        "import matplotlib.pyplot as plt\n",
        "%matplotlib inline\n",
        "\n",
        "import nltk \n",
        "nltk.download('punkt')\n",
        "nltk.download('stopwords')\n",
        "nltk.download('wordnet')\n",
        "from nltk.tokenize import RegexpTokenizer\n",
        "from collections import Counter \n",
        "from nltk.tokenize import word_tokenize\n",
        "from nltk.stem import WordNetLemmatizer\n",
        "from nltk.corpus import stopwords\n",
        "\n",
        "from sklearn.feature_extraction.text import TfidfVectorizer, TfidfTransformer\n",
        "from sklearn.model_selection import train_test_split\n",
        "from sklearn.utils import shuffle\n",
        "from sklearn import svm\n",
        "from sklearn.model_selection import cross_val_score\n",
        "from sklearn.metrics  import classification_report\n",
        "from sklearn import metrics\n",
        "from sklearn.externals import joblib\n",
        "\n",
        "import time\n",
        "from google.colab import drive\n",
        "from google.colab import files\n",
        "import warnings\n",
        "warnings.filterwarnings(\"ignore\")\n",
        "drive.mount(\"/content/gdrive\")"
      ],
      "execution_count": null,
      "outputs": [
        {
          "output_type": "stream",
          "text": [
            "[nltk_data] Downloading package punkt to /root/nltk_data...\n",
            "[nltk_data]   Unzipping tokenizers/punkt.zip.\n",
            "[nltk_data] Downloading package stopwords to /root/nltk_data...\n",
            "[nltk_data]   Unzipping corpora/stopwords.zip.\n",
            "[nltk_data] Downloading package wordnet to /root/nltk_data...\n",
            "[nltk_data]   Unzipping corpora/wordnet.zip.\n"
          ],
          "name": "stdout"
        },
        {
          "output_type": "stream",
          "text": [
            "/usr/local/lib/python3.7/dist-packages/sklearn/externals/joblib/__init__.py:15: FutureWarning: sklearn.externals.joblib is deprecated in 0.21 and will be removed in 0.23. Please import this functionality directly from joblib, which can be installed with: pip install joblib. If this warning is raised when loading pickled models, you may need to re-serialize those models with scikit-learn 0.21+.\n",
            "  warnings.warn(msg, category=FutureWarning)\n"
          ],
          "name": "stderr"
        },
        {
          "output_type": "stream",
          "text": [
            "Mounted at /content/gdrive\n"
          ],
          "name": "stdout"
        }
      ]
    },
    {
      "cell_type": "code",
      "metadata": {
        "id": "n5W7Frx63S1j",
        "colab": {
          "base_uri": "https://localhost:8080/",
          "height": 406
        },
        "outputId": "922b1140-053c-4105-9b3d-33f7926430d2"
      },
      "source": [
        "df = pd.read_csv('/content/gdrive/My Drive/dataset1.csv')\n",
        "df = shuffle(df)\n",
        "df.reset_index(inplace=True, drop=True)\n",
        "df"
      ],
      "execution_count": null,
      "outputs": [
        {
          "output_type": "execute_result",
          "data": {
            "text/html": [
              "<div>\n",
              "<style scoped>\n",
              "    .dataframe tbody tr th:only-of-type {\n",
              "        vertical-align: middle;\n",
              "    }\n",
              "\n",
              "    .dataframe tbody tr th {\n",
              "        vertical-align: top;\n",
              "    }\n",
              "\n",
              "    .dataframe thead th {\n",
              "        text-align: right;\n",
              "    }\n",
              "</style>\n",
              "<table border=\"1\" class=\"dataframe\">\n",
              "  <thead>\n",
              "    <tr style=\"text-align: right;\">\n",
              "      <th></th>\n",
              "      <th>ArticleId</th>\n",
              "      <th>Text</th>\n",
              "      <th>Category</th>\n",
              "    </tr>\n",
              "  </thead>\n",
              "  <tbody>\n",
              "    <tr>\n",
              "      <th>0</th>\n",
              "      <td>10306</td>\n",
              "      <td>Advocates say murderers with mental disorders ...</td>\n",
              "      <td>politics</td>\n",
              "    </tr>\n",
              "    <tr>\n",
              "      <th>1</th>\n",
              "      <td>4384</td>\n",
              "      <td>With much of the developed world hobbling unde...</td>\n",
              "      <td>business</td>\n",
              "    </tr>\n",
              "    <tr>\n",
              "      <th>2</th>\n",
              "      <td>320</td>\n",
              "      <td>Issei Kato / Reuters Roger Federer cries as he...</td>\n",
              "      <td>sport</td>\n",
              "    </tr>\n",
              "    <tr>\n",
              "      <th>3</th>\n",
              "      <td>4255</td>\n",
              "      <td>The host surprised a Hollywood tour bus group ...</td>\n",
              "      <td>entertainment</td>\n",
              "    </tr>\n",
              "    <tr>\n",
              "      <th>4</th>\n",
              "      <td>3649</td>\n",
              "      <td>Taken at face value, a rare acknowledgment by ...</td>\n",
              "      <td>sport</td>\n",
              "    </tr>\n",
              "    <tr>\n",
              "      <th>...</th>\n",
              "      <td>...</td>\n",
              "      <td>...</td>\n",
              "      <td>...</td>\n",
              "    </tr>\n",
              "    <tr>\n",
              "      <th>47756</th>\n",
              "      <td>7049</td>\n",
              "      <td>Well, that was quick!\\n\\nA little over a week ...</td>\n",
              "      <td>entertainment</td>\n",
              "    </tr>\n",
              "    <tr>\n",
              "      <th>47757</th>\n",
              "      <td>13272</td>\n",
              "      <td>At his turbulent his news event last Wednesday...</td>\n",
              "      <td>politics</td>\n",
              "    </tr>\n",
              "    <tr>\n",
              "      <th>47758</th>\n",
              "      <td>6939</td>\n",
              "      <td>In a galaxy far, far away, Jennifer Lawrence a...</td>\n",
              "      <td>entertainment</td>\n",
              "    </tr>\n",
              "    <tr>\n",
              "      <th>47759</th>\n",
              "      <td>9271</td>\n",
              "      <td>Fox News and its Washington, D.C., affiliate, ...</td>\n",
              "      <td>politics</td>\n",
              "    </tr>\n",
              "    <tr>\n",
              "      <th>47760</th>\n",
              "      <td>4934</td>\n",
              "      <td>In a region famous for its wine, another cash ...</td>\n",
              "      <td>politics</td>\n",
              "    </tr>\n",
              "  </tbody>\n",
              "</table>\n",
              "<p>47761 rows × 3 columns</p>\n",
              "</div>"
            ],
            "text/plain": [
              "      ArticleId  ...       Category\n",
              "0         10306  ...       politics\n",
              "1          4384  ...       business\n",
              "2           320  ...          sport\n",
              "3          4255  ...  entertainment\n",
              "4          3649  ...          sport\n",
              "...         ...  ...            ...\n",
              "47756      7049  ...  entertainment\n",
              "47757     13272  ...       politics\n",
              "47758      6939  ...  entertainment\n",
              "47759      9271  ...       politics\n",
              "47760      4934  ...       politics\n",
              "\n",
              "[47761 rows x 3 columns]"
            ]
          },
          "metadata": {
            "tags": []
          },
          "execution_count": 2
        }
      ]
    },
    {
      "cell_type": "code",
      "metadata": {
        "id": "PZj_fDwh--ih",
        "colab": {
          "base_uri": "https://localhost:8080/",
          "height": 406
        },
        "outputId": "ebd5ac85-b376-4fcb-de9b-cc7752fe6613"
      },
      "source": [
        "# Eliminating the null values in the dataset\n",
        "df.drop(df[pd.isnull(df.Category)].index, inplace=True)\n",
        "df.drop(df[pd.isnull(df.Text)].index, inplace=True)\n",
        "df.drop(df[pd.isnull(df.ArticleId)].index, inplace=True)\n",
        "df"
      ],
      "execution_count": null,
      "outputs": [
        {
          "output_type": "execute_result",
          "data": {
            "text/html": [
              "<div>\n",
              "<style scoped>\n",
              "    .dataframe tbody tr th:only-of-type {\n",
              "        vertical-align: middle;\n",
              "    }\n",
              "\n",
              "    .dataframe tbody tr th {\n",
              "        vertical-align: top;\n",
              "    }\n",
              "\n",
              "    .dataframe thead th {\n",
              "        text-align: right;\n",
              "    }\n",
              "</style>\n",
              "<table border=\"1\" class=\"dataframe\">\n",
              "  <thead>\n",
              "    <tr style=\"text-align: right;\">\n",
              "      <th></th>\n",
              "      <th>ArticleId</th>\n",
              "      <th>Text</th>\n",
              "      <th>Category</th>\n",
              "    </tr>\n",
              "  </thead>\n",
              "  <tbody>\n",
              "    <tr>\n",
              "      <th>0</th>\n",
              "      <td>10306</td>\n",
              "      <td>Advocates say murderers with mental disorders ...</td>\n",
              "      <td>politics</td>\n",
              "    </tr>\n",
              "    <tr>\n",
              "      <th>1</th>\n",
              "      <td>4384</td>\n",
              "      <td>With much of the developed world hobbling unde...</td>\n",
              "      <td>business</td>\n",
              "    </tr>\n",
              "    <tr>\n",
              "      <th>2</th>\n",
              "      <td>320</td>\n",
              "      <td>Issei Kato / Reuters Roger Federer cries as he...</td>\n",
              "      <td>sport</td>\n",
              "    </tr>\n",
              "    <tr>\n",
              "      <th>3</th>\n",
              "      <td>4255</td>\n",
              "      <td>The host surprised a Hollywood tour bus group ...</td>\n",
              "      <td>entertainment</td>\n",
              "    </tr>\n",
              "    <tr>\n",
              "      <th>4</th>\n",
              "      <td>3649</td>\n",
              "      <td>Taken at face value, a rare acknowledgment by ...</td>\n",
              "      <td>sport</td>\n",
              "    </tr>\n",
              "    <tr>\n",
              "      <th>...</th>\n",
              "      <td>...</td>\n",
              "      <td>...</td>\n",
              "      <td>...</td>\n",
              "    </tr>\n",
              "    <tr>\n",
              "      <th>47756</th>\n",
              "      <td>7049</td>\n",
              "      <td>Well, that was quick!\\n\\nA little over a week ...</td>\n",
              "      <td>entertainment</td>\n",
              "    </tr>\n",
              "    <tr>\n",
              "      <th>47757</th>\n",
              "      <td>13272</td>\n",
              "      <td>At his turbulent his news event last Wednesday...</td>\n",
              "      <td>politics</td>\n",
              "    </tr>\n",
              "    <tr>\n",
              "      <th>47758</th>\n",
              "      <td>6939</td>\n",
              "      <td>In a galaxy far, far away, Jennifer Lawrence a...</td>\n",
              "      <td>entertainment</td>\n",
              "    </tr>\n",
              "    <tr>\n",
              "      <th>47759</th>\n",
              "      <td>9271</td>\n",
              "      <td>Fox News and its Washington, D.C., affiliate, ...</td>\n",
              "      <td>politics</td>\n",
              "    </tr>\n",
              "    <tr>\n",
              "      <th>47760</th>\n",
              "      <td>4934</td>\n",
              "      <td>In a region famous for its wine, another cash ...</td>\n",
              "      <td>politics</td>\n",
              "    </tr>\n",
              "  </tbody>\n",
              "</table>\n",
              "<p>47713 rows × 3 columns</p>\n",
              "</div>"
            ],
            "text/plain": [
              "      ArticleId  ...       Category\n",
              "0         10306  ...       politics\n",
              "1          4384  ...       business\n",
              "2           320  ...          sport\n",
              "3          4255  ...  entertainment\n",
              "4          3649  ...          sport\n",
              "...         ...  ...            ...\n",
              "47756      7049  ...  entertainment\n",
              "47757     13272  ...       politics\n",
              "47758      6939  ...  entertainment\n",
              "47759      9271  ...       politics\n",
              "47760      4934  ...       politics\n",
              "\n",
              "[47713 rows x 3 columns]"
            ]
          },
          "metadata": {
            "tags": []
          },
          "execution_count": 3
        }
      ]
    },
    {
      "cell_type": "code",
      "metadata": {
        "id": "NClm4trT_hR1",
        "colab": {
          "base_uri": "https://localhost:8080/",
          "height": 197
        },
        "outputId": "2f506add-e410-418b-8db3-d39637bbf213"
      },
      "source": [
        "df['category_id'] = df['Category'].factorize()[0]\n",
        "df['category_id'][0:10]\n",
        "df.head()"
      ],
      "execution_count": null,
      "outputs": [
        {
          "output_type": "execute_result",
          "data": {
            "text/html": [
              "<div>\n",
              "<style scoped>\n",
              "    .dataframe tbody tr th:only-of-type {\n",
              "        vertical-align: middle;\n",
              "    }\n",
              "\n",
              "    .dataframe tbody tr th {\n",
              "        vertical-align: top;\n",
              "    }\n",
              "\n",
              "    .dataframe thead th {\n",
              "        text-align: right;\n",
              "    }\n",
              "</style>\n",
              "<table border=\"1\" class=\"dataframe\">\n",
              "  <thead>\n",
              "    <tr style=\"text-align: right;\">\n",
              "      <th></th>\n",
              "      <th>ArticleId</th>\n",
              "      <th>Text</th>\n",
              "      <th>Category</th>\n",
              "      <th>category_id</th>\n",
              "    </tr>\n",
              "  </thead>\n",
              "  <tbody>\n",
              "    <tr>\n",
              "      <th>0</th>\n",
              "      <td>10306</td>\n",
              "      <td>Advocates say murderers with mental disorders ...</td>\n",
              "      <td>politics</td>\n",
              "      <td>0</td>\n",
              "    </tr>\n",
              "    <tr>\n",
              "      <th>1</th>\n",
              "      <td>4384</td>\n",
              "      <td>With much of the developed world hobbling unde...</td>\n",
              "      <td>business</td>\n",
              "      <td>1</td>\n",
              "    </tr>\n",
              "    <tr>\n",
              "      <th>2</th>\n",
              "      <td>320</td>\n",
              "      <td>Issei Kato / Reuters Roger Federer cries as he...</td>\n",
              "      <td>sport</td>\n",
              "      <td>2</td>\n",
              "    </tr>\n",
              "    <tr>\n",
              "      <th>3</th>\n",
              "      <td>4255</td>\n",
              "      <td>The host surprised a Hollywood tour bus group ...</td>\n",
              "      <td>entertainment</td>\n",
              "      <td>3</td>\n",
              "    </tr>\n",
              "    <tr>\n",
              "      <th>4</th>\n",
              "      <td>3649</td>\n",
              "      <td>Taken at face value, a rare acknowledgment by ...</td>\n",
              "      <td>sport</td>\n",
              "      <td>2</td>\n",
              "    </tr>\n",
              "  </tbody>\n",
              "</table>\n",
              "</div>"
            ],
            "text/plain": [
              "  ArticleId  ... category_id\n",
              "0     10306  ...           0\n",
              "1      4384  ...           1\n",
              "2       320  ...           2\n",
              "3      4255  ...           3\n",
              "4      3649  ...           2\n",
              "\n",
              "[5 rows x 4 columns]"
            ]
          },
          "metadata": {
            "tags": []
          },
          "execution_count": 4
        }
      ]
    },
    {
      "cell_type": "code",
      "metadata": {
        "id": "JF_Qw590_6Iq",
        "colab": {
          "base_uri": "https://localhost:8080/"
        },
        "outputId": "e33cce13-6047-44fb-de93-2a28e1b1c919"
      },
      "source": [
        "# Listing the Categories\n",
        "categories = list(df['Category'].unique())\n",
        "categories"
      ],
      "execution_count": null,
      "outputs": [
        {
          "output_type": "execute_result",
          "data": {
            "text/plain": [
              "['politics', 'business', 'sport', 'entertainment', 'tech']"
            ]
          },
          "metadata": {
            "tags": []
          },
          "execution_count": 5
        }
      ]
    },
    {
      "cell_type": "code",
      "metadata": {
        "id": "bYFbdeyn_8WY",
        "colab": {
          "base_uri": "https://localhost:8080/"
        },
        "outputId": "be1ff1bc-1c5c-47aa-eb36-b076a480129e"
      },
      "source": [
        "df.groupby('Category').category_id.count()"
      ],
      "execution_count": null,
      "outputs": [
        {
          "output_type": "execute_result",
          "data": {
            "text/plain": [
              "Category\n",
              "business          5359\n",
              "entertainment    15628\n",
              "politics         19851\n",
              "sport             4834\n",
              "tech              2041\n",
              "Name: category_id, dtype: int64"
            ]
          },
          "metadata": {
            "tags": []
          },
          "execution_count": 6
        }
      ]
    },
    {
      "cell_type": "code",
      "metadata": {
        "id": "Ojs0o7qyABlT",
        "colab": {
          "base_uri": "https://localhost:8080/",
          "height": 362
        },
        "outputId": "63015603-07be-463b-fc4f-8e860e0817d8"
      },
      "source": [
        "df['Category'].value_counts().plot(kind='bar', colormap = \"summer\")\n",
        "plt.title(\"Category Analysis Graph\", fontsize=15)\n",
        "plt.xlabel(\"Categories\", fontsize=13)\n",
        "plt.ylabel(\"Category Count\", fontsize=13)\n",
        "plt.show()"
      ],
      "execution_count": null,
      "outputs": [
        {
          "output_type": "display_data",
          "data": {
            "image/png": "[encoded data removed]",
            "text/plain": [
              "<Figure size 432x288 with 1 Axes>"
            ]
          },
          "metadata": {
            "tags": [],
            "needs_background": "light"
          }
        }
      ]
    },
    {
      "cell_type": "code",
      "metadata": {
        "id": "4YoMO4VHALR8"
      },
      "source": [
        "# Cleaning the Data\n",
        "def clean_data(text):\n",
        "   # Normalizing the text\n",
        "  try:\n",
        "    cleaned_text = re.sub(r\"[^a-zA-Z]\", \" \", str(text).lower())\n",
        "  except:\n",
        "    cleaned_text = str(text).lower()\n",
        "  tokens = word_tokenize(cleaned_text)  # Tockenizing the text\n",
        "  stop_words = stopwords.words(\"english\") \n",
        "  token_words = [t for t in tokens if t not in stop_words]  # Removing the stopwords from the text\n",
        "  final_text = [WordNetLemmatizer().lemmatize(w) for w in token_words]  # Converting words in their base form via lammitization\n",
        "  return final_text"
      ],
      "execution_count": null,
      "outputs": []
    },
    {
      "cell_type": "code",
      "metadata": {
        "id": "AQq-WIluB5R1",
        "colab": {
          "base_uri": "https://localhost:8080/",
          "height": 406
        },
        "outputId": "29808b0b-f710-4746-de2b-9f837dfb97be"
      },
      "source": [
        "df['cleaned_text'] = df['Text'].apply(lambda x: clean_data(x))\n",
        "df"
      ],
      "execution_count": null,
      "outputs": [
        {
          "output_type": "execute_result",
          "data": {
            "text/html": [
              "<div>\n",
              "<style scoped>\n",
              "    .dataframe tbody tr th:only-of-type {\n",
              "        vertical-align: middle;\n",
              "    }\n",
              "\n",
              "    .dataframe tbody tr th {\n",
              "        vertical-align: top;\n",
              "    }\n",
              "\n",
              "    .dataframe thead th {\n",
              "        text-align: right;\n",
              "    }\n",
              "</style>\n",
              "<table border=\"1\" class=\"dataframe\">\n",
              "  <thead>\n",
              "    <tr style=\"text-align: right;\">\n",
              "      <th></th>\n",
              "      <th>ArticleId</th>\n",
              "      <th>Text</th>\n",
              "      <th>Category</th>\n",
              "      <th>category_id</th>\n",
              "      <th>cleaned_text</th>\n",
              "    </tr>\n",
              "  </thead>\n",
              "  <tbody>\n",
              "    <tr>\n",
              "      <th>0</th>\n",
              "      <td>10306</td>\n",
              "      <td>Advocates say murderers with mental disorders ...</td>\n",
              "      <td>politics</td>\n",
              "      <td>0</td>\n",
              "      <td>[advocate, say, murderer, mental, disorder, li...</td>\n",
              "    </tr>\n",
              "    <tr>\n",
              "      <th>1</th>\n",
              "      <td>4384</td>\n",
              "      <td>With much of the developed world hobbling unde...</td>\n",
              "      <td>business</td>\n",
              "      <td>1</td>\n",
              "      <td>[much, developed, world, hobbling, burden, mas...</td>\n",
              "    </tr>\n",
              "    <tr>\n",
              "      <th>2</th>\n",
              "      <td>320</td>\n",
              "      <td>Issei Kato / Reuters Roger Federer cries as he...</td>\n",
              "      <td>sport</td>\n",
              "      <td>2</td>\n",
              "      <td>[issei, kato, reuters, roger, federer, cry, ho...</td>\n",
              "    </tr>\n",
              "    <tr>\n",
              "      <th>3</th>\n",
              "      <td>4255</td>\n",
              "      <td>The host surprised a Hollywood tour bus group ...</td>\n",
              "      <td>entertainment</td>\n",
              "      <td>3</td>\n",
              "      <td>[host, surprised, hollywood, tour, bus, group,...</td>\n",
              "    </tr>\n",
              "    <tr>\n",
              "      <th>4</th>\n",
              "      <td>3649</td>\n",
              "      <td>Taken at face value, a rare acknowledgment by ...</td>\n",
              "      <td>sport</td>\n",
              "      <td>2</td>\n",
              "      <td>[taken, face, value, rare, acknowledgment, int...</td>\n",
              "    </tr>\n",
              "    <tr>\n",
              "      <th>...</th>\n",
              "      <td>...</td>\n",
              "      <td>...</td>\n",
              "      <td>...</td>\n",
              "      <td>...</td>\n",
              "      <td>...</td>\n",
              "    </tr>\n",
              "    <tr>\n",
              "      <th>47756</th>\n",
              "      <td>7049</td>\n",
              "      <td>Well, that was quick!\\n\\nA little over a week ...</td>\n",
              "      <td>entertainment</td>\n",
              "      <td>3</td>\n",
              "      <td>[well, quick, little, week, kylie, jenner, tyg...</td>\n",
              "    </tr>\n",
              "    <tr>\n",
              "      <th>47757</th>\n",
              "      <td>13272</td>\n",
              "      <td>At his turbulent his news event last Wednesday...</td>\n",
              "      <td>politics</td>\n",
              "      <td>0</td>\n",
              "      <td>[turbulent, news, event, last, wednesday, dign...</td>\n",
              "    </tr>\n",
              "    <tr>\n",
              "      <th>47758</th>\n",
              "      <td>6939</td>\n",
              "      <td>In a galaxy far, far away, Jennifer Lawrence a...</td>\n",
              "      <td>entertainment</td>\n",
              "      <td>3</td>\n",
              "      <td>[galaxy, far, far, away, jennifer, lawrence, a...</td>\n",
              "    </tr>\n",
              "    <tr>\n",
              "      <th>47759</th>\n",
              "      <td>9271</td>\n",
              "      <td>Fox News and its Washington, D.C., affiliate, ...</td>\n",
              "      <td>politics</td>\n",
              "      <td>0</td>\n",
              "      <td>[fox, news, washington, c, affiliate, fox, sta...</td>\n",
              "    </tr>\n",
              "    <tr>\n",
              "      <th>47760</th>\n",
              "      <td>4934</td>\n",
              "      <td>In a region famous for its wine, another cash ...</td>\n",
              "      <td>politics</td>\n",
              "      <td>0</td>\n",
              "      <td>[region, famous, wine, another, cash, crop, gr...</td>\n",
              "    </tr>\n",
              "  </tbody>\n",
              "</table>\n",
              "<p>47713 rows × 5 columns</p>\n",
              "</div>"
            ],
            "text/plain": [
              "      ArticleId  ...                                       cleaned_text\n",
              "0         10306  ...  [advocate, say, murderer, mental, disorder, li...\n",
              "1          4384  ...  [much, developed, world, hobbling, burden, mas...\n",
              "2           320  ...  [issei, kato, reuters, roger, federer, cry, ho...\n",
              "3          4255  ...  [host, surprised, hollywood, tour, bus, group,...\n",
              "4          3649  ...  [taken, face, value, rare, acknowledgment, int...\n",
              "...         ...  ...                                                ...\n",
              "47756      7049  ...  [well, quick, little, week, kylie, jenner, tyg...\n",
              "47757     13272  ...  [turbulent, news, event, last, wednesday, dign...\n",
              "47758      6939  ...  [galaxy, far, far, away, jennifer, lawrence, a...\n",
              "47759      9271  ...  [fox, news, washington, c, affiliate, fox, sta...\n",
              "47760      4934  ...  [region, famous, wine, another, cash, crop, gr...\n",
              "\n",
              "[47713 rows x 5 columns]"
            ]
          },
          "metadata": {
            "tags": []
          },
          "execution_count": 9
        }
      ]
    },
    {
      "cell_type": "code",
      "metadata": {
        "id": "cIMtzOfqCS4X",
        "colab": {
          "base_uri": "https://localhost:8080/"
        },
        "outputId": "dfbd8c26-b85c-4662-d060-f4616a0b7f79"
      },
      "source": [
        "# Checking the most occuring Unigrams in every category of the text\n",
        "print(\"Most Common Words in Every Category\")\n",
        "for c in categories:\n",
        "  print(\"Category : \", c)\n",
        "  catdf = df[df[\"Category\"]==c]\n",
        "  words = [word for tokens in catdf[\"cleaned_text\"] for word in tokens]\n",
        "  words_count = Counter(words)\n",
        "  print(words_count.most_common(10))\n",
        "  print()"
      ],
      "execution_count": null,
      "outputs": [
        {
          "output_type": "stream",
          "text": [
            "Most Common Words in Every Category\n",
            "Category :  politics\n",
            "[('trump', 119544), ('said', 75338), ('president', 46102), ('state', 46073), ('would', 45956), ('u', 39847), ('people', 38262), ('one', 33447), ('republican', 33365), ('year', 33324)]\n",
            "\n",
            "Category :  business\n",
            "[('company', 13163), ('year', 11296), ('said', 11185), ('people', 10325), ('time', 10224), ('one', 10010), ('business', 9428), ('new', 9099), ('u', 8033), ('work', 7813)]\n",
            "\n",
            "Category :  sport\n",
            "[('game', 9301), ('team', 6762), ('said', 6607), ('year', 6463), ('one', 5519), ('player', 5347), ('time', 4959), ('first', 4507), ('sport', 3900), ('two', 3540)]\n",
            "\n",
            "Category :  entertainment\n",
            "[('like', 19595), ('one', 18757), ('year', 16795), ('said', 16372), ('show', 15703), ('film', 15700), ('time', 15113), ('new', 13367), ('people', 12063), ('also', 11854)]\n",
            "\n",
            "Category :  tech\n",
            "[('said', 4915), ('company', 3305), ('new', 3175), ('people', 2956), ('apple', 2729), ('one', 2703), ('year', 2482), ('like', 2360), ('time', 2131), ('would', 2105)]\n",
            "\n"
          ],
          "name": "stdout"
        }
      ]
    },
    {
      "cell_type": "code",
      "metadata": {
        "id": "mKeehh_8Xpm8",
        "colab": {
          "base_uri": "https://localhost:8080/",
          "height": 197
        },
        "outputId": "569623c8-8181-4183-b6d4-5861536859a8"
      },
      "source": [
        "# Joining the cleaned words to generate Pre-processed text\n",
        "df['final_cleaned_text'] = df['cleaned_text'].apply(' '.join)\n",
        "df.head()"
      ],
      "execution_count": null,
      "outputs": [
        {
          "output_type": "execute_result",
          "data": {
            "text/html": [
              "<div>\n",
              "<style scoped>\n",
              "    .dataframe tbody tr th:only-of-type {\n",
              "        vertical-align: middle;\n",
              "    }\n",
              "\n",
              "    .dataframe tbody tr th {\n",
              "        vertical-align: top;\n",
              "    }\n",
              "\n",
              "    .dataframe thead th {\n",
              "        text-align: right;\n",
              "    }\n",
              "</style>\n",
              "<table border=\"1\" class=\"dataframe\">\n",
              "  <thead>\n",
              "    <tr style=\"text-align: right;\">\n",
              "      <th></th>\n",
              "      <th>ArticleId</th>\n",
              "      <th>Text</th>\n",
              "      <th>Category</th>\n",
              "      <th>category_id</th>\n",
              "      <th>cleaned_text</th>\n",
              "      <th>final_cleaned_text</th>\n",
              "    </tr>\n",
              "  </thead>\n",
              "  <tbody>\n",
              "    <tr>\n",
              "      <th>0</th>\n",
              "      <td>10306</td>\n",
              "      <td>Advocates say murderers with mental disorders ...</td>\n",
              "      <td>politics</td>\n",
              "      <td>0</td>\n",
              "      <td>[advocate, say, murderer, mental, disorder, li...</td>\n",
              "      <td>advocate say murderer mental disorder like sch...</td>\n",
              "    </tr>\n",
              "    <tr>\n",
              "      <th>1</th>\n",
              "      <td>4384</td>\n",
              "      <td>With much of the developed world hobbling unde...</td>\n",
              "      <td>business</td>\n",
              "      <td>1</td>\n",
              "      <td>[much, developed, world, hobbling, burden, mas...</td>\n",
              "      <td>much developed world hobbling burden massive p...</td>\n",
              "    </tr>\n",
              "    <tr>\n",
              "      <th>2</th>\n",
              "      <td>320</td>\n",
              "      <td>Issei Kato / Reuters Roger Federer cries as he...</td>\n",
              "      <td>sport</td>\n",
              "      <td>2</td>\n",
              "      <td>[issei, kato, reuters, roger, federer, cry, ho...</td>\n",
              "      <td>issei kato reuters roger federer cry hold trop...</td>\n",
              "    </tr>\n",
              "    <tr>\n",
              "      <th>3</th>\n",
              "      <td>4255</td>\n",
              "      <td>The host surprised a Hollywood tour bus group ...</td>\n",
              "      <td>entertainment</td>\n",
              "      <td>3</td>\n",
              "      <td>[host, surprised, hollywood, tour, bus, group,...</td>\n",
              "      <td>host surprised hollywood tour bus group direct...</td>\n",
              "    </tr>\n",
              "    <tr>\n",
              "      <th>4</th>\n",
              "      <td>3649</td>\n",
              "      <td>Taken at face value, a rare acknowledgment by ...</td>\n",
              "      <td>sport</td>\n",
              "      <td>2</td>\n",
              "      <td>[taken, face, value, rare, acknowledgment, int...</td>\n",
              "      <td>taken face value rare acknowledgment internati...</td>\n",
              "    </tr>\n",
              "  </tbody>\n",
              "</table>\n",
              "</div>"
            ],
            "text/plain": [
              "  ArticleId  ...                                 final_cleaned_text\n",
              "0     10306  ...  advocate say murderer mental disorder like sch...\n",
              "1      4384  ...  much developed world hobbling burden massive p...\n",
              "2       320  ...  issei kato reuters roger federer cry hold trop...\n",
              "3      4255  ...  host surprised hollywood tour bus group direct...\n",
              "4      3649  ...  taken face value rare acknowledgment internati...\n",
              "\n",
              "[5 rows x 6 columns]"
            ]
          },
          "metadata": {
            "tags": []
          },
          "execution_count": 11
        }
      ]
    },
    {
      "cell_type": "code",
      "metadata": {
        "id": "OffY5BbvX0gz",
        "colab": {
          "base_uri": "https://localhost:8080/"
        },
        "outputId": "4be10932-ba63-4a44-f3b3-35530cd66502"
      },
      "source": [
        "# Splitting the dataset in train and test sets\n",
        "X = df['final_cleaned_text']\n",
        "y = df['Category']\n",
        "X_train, X_test, y_train, y_test = train_test_split(X, y, test_size = 0.2)\n",
        "\n",
        "# Using TF-IDF to identify the feature vectors inside text\n",
        "tf_vec = TfidfVectorizer()\n",
        "train_features = tf_vec.fit_transform(X_train)\n",
        "test_features = tf_vec.transform(X_test)\n",
        "print(train_features.shape)"
      ],
      "execution_count": null,
      "outputs": [
        {
          "output_type": "stream",
          "text": [
            "(38170, 135972)\n"
          ],
          "name": "stdout"
        }
      ]
    },
    {
      "cell_type": "code",
      "metadata": {
        "id": "I702mW-nzJ0z"
      },
      "source": [
        "# Fitting the model on our splitted features from above\n",
        "SVC = svm.SVC()\n",
        "SVC.fit(train_features,y_train)\n",
        "train_predicted = SVC.predict(train_features)\n",
        "test_predicted = SVC.predict(test_features)"
      ],
      "execution_count": null,
      "outputs": []
    },
    {
      "cell_type": "code",
      "metadata": {
        "colab": {
          "base_uri": "https://localhost:8080/"
        },
        "id": "5p1zRE6Nu0Ab",
        "outputId": "a32f70cc-5dc0-4bb7-9cf0-1a7983496908"
      },
      "source": [
        "# Evaluating the Model\n",
        "from sklearn.metrics  import classification_report\n",
        "results ={}\n",
        "results['classification_report'] = classification_report(y_test, test_predicted)\n",
        "print(\"Model : SVC\")\n",
        "for i in results:\n",
        "  print(results[i])"
      ],
      "execution_count": null,
      "outputs": [
        {
          "output_type": "stream",
          "text": [
            "Model : SVC\n",
            "               precision    recall  f1-score   support\n",
            "\n",
            "     business       0.87      0.81      0.84      1102\n",
            "entertainment       0.92      0.96      0.94      3115\n",
            "     politics       0.94      0.95      0.95      3957\n",
            "        sport       0.92      0.88      0.90       961\n",
            "         tech       0.82      0.71      0.76       408\n",
            "\n",
            "     accuracy                           0.92      9543\n",
            "    macro avg       0.90      0.86      0.88      9543\n",
            " weighted avg       0.92      0.92      0.92      9543\n",
            "\n"
          ],
          "name": "stdout"
        }
      ]
    },
    {
      "cell_type": "code",
      "metadata": {
        "colab": {
          "base_uri": "https://localhost:8080/"
        },
        "id": "xPy5jY1KzeDL",
        "outputId": "f6b8cef7-9478-4215-af28-ecddb5b32552"
      },
      "source": [
        "# Saving the model\n",
        "joblib_file = \"joblib_model.sav\"\n",
        "joblib.dump(SVC, joblib_file)"
      ],
      "execution_count": null,
      "outputs": [
        {
          "output_type": "execute_result",
          "data": {
            "text/plain": [
              "['joblib_model.sav']"
            ]
          },
          "metadata": {
            "tags": []
          },
          "execution_count": 109
        }
      ]
    },
    {
      "cell_type": "code",
      "metadata": {
        "id": "f_jZvRil1JhC"
      },
      "source": [
        "# Load from file\n",
        "joblib_model = joblib.load(joblib_file)"
      ],
      "execution_count": null,
      "outputs": []
    },
    {
      "cell_type": "code",
      "metadata": {
        "colab": {
          "base_uri": "https://localhost:8080/"
        },
        "id": "0d6ccdOMGQAq",
        "outputId": "808aaf2f-4905-42bf-8dfa-e8cf3a159172"
      },
      "source": [
        "# Gathering and Preparing data for classification\n",
        "def gather_text(filename):\n",
        "  with open(filename, 'r') as f:\n",
        "    text_data = f.read().replace('\\n', ' ')\n",
        "    index = text_data.find('Article:')\n",
        "    text_data = text_data[index:]\n",
        "    text_data = text_data.replace(\"Article:\",\"\",1)\n",
        "    f.close()\n",
        "    return text_data\n",
        "text_data = gather_text('/content/gdrive/My Drive/ab.txt')\n",
        "print(text_data)"
      ],
      "execution_count": null,
      "outputs": [
        {
          "output_type": "stream",
          "text": [
            "Abid Ali was in scintillating form again on day two of the second Test against Zimbabwe but is unlikely to be required to bat again.Pakistan strengthened their grip on the second Test against Zimbabwe in Harare after an unbeaten 215 from Abid Ali allowed the tourists to declare on 510-8. And Zimbabwe were quickly reduced to 52-4in reply by the end of day two as Pakistan closed on a dominant sweep of the two-match series.The touring side, who won the opener by an innings and 116 runs, resumed on 268-4 on Saturday and could not be slowed.It took Zimbabwe 54 balls to remove nightwatchman Sajid Khan (20), installed alongside Abid after a belated flurry of wickets on Friday, although Abid's scoring was only steady as Mohammad Rizwan and Hasan Ali also departed.The arrival of Nauman Ali at the crease prompted a huge partnership of 169 and the duo looked immovable at the close of the second session.Nauman was just seven shy of a maiden century, having been out for a duck in the previous match, and this looming milestone appeared to play into the thinking as Pakistan batted again in the evening.But after Nauman hit the first ball for four, he was stumped from the second and Babar Azam swiftly declared.That left time for the tourists to chase early wickets in the Zimbabwe innings and veteran Test debutant Tabish Khan found joy inside the second over as he trapped Tarisai Musakanda.Kevin Kasuza, captain Brendan Taylor and Milton Shumbaalso departed before the day was out, with Sajid continuing an enjoyable outing with his first Test wicket.The hosts again facea mountain to climb simply to send Pakistan in to bat for a second time, already with only six wickets remainingHighest score by a Pakistan batsman in Tests in ZimbabweMaking hay in HarareAbid scored centuries in two of his first three Test innings but had failed to supply a third since coming into this match. His average stood at 37.Now he has a first double-hundred and a batting average of 49.6. The batsman found an accommodating Zimbabwe attack but capitalised far more effectively than many of his team-mates.Well worth the waitTabish made his first-class debut in 2002-03 but only now, aged 36, has been handed his chance in the Test arena.Not called into action until the sixth session of the match, he soon made up for lost time with just his sixth delivery, nipping back into Musakanda to set Pakistan on their way. \n"
          ],
          "name": "stdout"
        }
      ]
    },
    {
      "cell_type": "code",
      "metadata": {
        "colab": {
          "base_uri": "https://localhost:8080/"
        },
        "id": "bOUSBx8yhQkU",
        "outputId": "d18ef277-f247-4eb6-9fff-468bf1557b7d"
      },
      "source": [
        "# Passing the data to the loaded model for prediction\n",
        "def classify_articles(article):\n",
        "  fin_text = clean_data(article)\n",
        "  data = ' '.join(fin_text)\n",
        "  final_text = tf_vec.transform([data])\n",
        "  predict = joblib_model.predict(final_text)\n",
        "  pred_category = predict[0]\n",
        "  return pred_category\n",
        "print(\"Article's Category is :\",classify_articles(text_data))"
      ],
      "execution_count": null,
      "outputs": [
        {
          "output_type": "stream",
          "text": [
            "Article's Category is : sport\n"
          ],
          "name": "stdout"
        }
      ]
    }
  ]
}